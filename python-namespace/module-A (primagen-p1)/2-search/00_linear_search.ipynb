{
 "cells": [
  {
   "cell_type": "code",
   "execution_count": 1,
   "id": "9259d5e1",
   "metadata": {},
   "outputs": [],
   "source": [
    "# A decorter to get function execution time\n",
    "import time\n",
    "\n",
    "def timeit(func):\n",
    "    def wrapper(*args, **kwargs):\n",
    "        start = time.time()\n",
    "        result = func(*args, **kwargs)\n",
    "        end = time.time()\n",
    "        print(f\"Function {func.__name__} executed in {end-start} seconds\")\n",
    "        return result\n",
    "    return wrapper"
   ]
  },
  {
   "cell_type": "code",
   "execution_count": 2,
   "id": "4fda1048",
   "metadata": {},
   "outputs": [],
   "source": [
    "@timeit\n",
    "def linear_search(haystack: list[int], needle: int) -> bool:\n",
    "    \n",
    "    for i in range(len(haystack)):\n",
    "        if haystack[i] == needle:\n",
    "            return True\n",
    "    return False"
   ]
  },
  {
   "cell_type": "code",
   "execution_count": 20,
   "id": "5ae2bc9f",
   "metadata": {},
   "outputs": [
    {
     "name": "stdout",
     "output_type": "stream",
     "text": [
      "Function linear_search executed in 4.0531158447265625e-06 seconds\n",
      "False\n"
     ]
    }
   ],
   "source": [
    "# Try to run the code below to test your implementation\n",
    "haystack = [1, 2, 8, 4, 5]\n",
    "needle = 10\n",
    "print(linear_search(haystack, needle)) # Expected output: True"
   ]
  },
  {
   "cell_type": "code",
   "execution_count": 4,
   "metadata": {},
   "outputs": [
    {
     "name": "stdout",
     "output_type": "stream",
     "text": [
      "Function linear_search executed in 3.0994415283203125e-06 seconds\n",
      "Function linear_search executed in 1.430511474609375e-06 seconds\n",
      "Function linear_search executed in 7.152557373046875e-07 seconds\n",
      "Function linear_search executed in 4.76837158203125e-07 seconds\n",
      "Function linear_search executed in 4.76837158203125e-07 seconds\n",
      "Function linear_search executed in 9.5367431640625e-07 seconds\n"
     ]
    }
   ],
   "source": [
    "\n",
    "def test_linear_search():\n",
    "    foo = [1, 3, 4, 69, 71, 81, 90, 99, 420, 1337, 69420]\n",
    "    assert linear_search(foo, 69) == True\n",
    "    assert linear_search(foo, 1336) == False\n",
    "    assert linear_search(foo, 69420) == True\n",
    "    assert linear_search(foo, 69421) == False\n",
    "    assert linear_search(foo, 1) == True\n",
    "    assert linear_search(foo, 0) == False\n",
    "\n",
    "test_linear_search()\n"
   ]
  },
  {
   "cell_type": "markdown",
   "id": "102b9b0c",
   "metadata": {},
   "source": [
    "A linear search algorithm is one of the simplest search algorithms used to find a specific element in a list or array. It works by sequentially checking each element of the list until the desired element is found or the list ends. Here’s a more detailed explanation of how the basic linear search algorithm works:\n",
    "\n",
    "Steps of a Linear Search Algorithm\n",
    "\n",
    "\t1.\tStart from the Beginning: Begin the search from the first element of the list.\n",
    "\t2.\tCompare Each Element: Compare the current element with the target element (the element you’re searching for).\n",
    "\t3.\tCheck for a Match:\n",
    "\t•\tIf the current element matches the target element, the search is successful, and the function returns the index of the element or True.\n",
    "\t•\tIf the current element does not match the target element, move to the next element.\n",
    "\t4.\tContinue Until End: Repeat steps 2 and 3 until you either find the target element or reach the end of the list.\n",
    "\t5.\tReturn the Result: If the target element is found, return its index or True. If the end of the list is reached without finding the target element, return False."
   ]
  },
  {
   "cell_type": "markdown",
   "id": "94734f0f",
   "metadata": {},
   "source": [
    "What is Big O for it?\n",
    "\n",
    "\n",
    "The time complexity of the linear search algorithm is analyzed using Big O notation to describe its performance in the worst-case scenario. Here is the breakdown:\n",
    "\n",
    "Time Complexity: O(n)\n",
    "\n",
    "\t•\tBest Case: O(1)\n",
    "\t•\tThe best-case scenario occurs when the target element (needle) is the first element of the list (haystack). In this case, the algorithm only needs to make one comparison to find the target.\n",
    "\t•\tWorst Case: O(n)\n",
    "\t•\tThe worst-case scenario happens when the target element is either not in the list at all or is the last element of the list. In this case, the algorithm has to check each element of the list, making n comparisons, where n is the length of the list.\n",
    "\t•\tAverage Case: O(n)\n",
    "\t•\tOn average, if the target element is uniformly distributed and assuming it’s equally likely to be at any position in the list, the algorithm will check half of the elements in the list, leading to O(n/2) comparisons. However, in Big O notation, we drop constant factors, so this is simplified to O(n).\n",
    "\n",
    "Space Complexity: O(1)\n",
    "\n",
    "The space complexity of the linear search algorithm is O(1), which means it requires a constant amount of additional space regardless of the size of the input list. This is because the algorithm only uses a few extra variables (e.g., for the index and the target element) and does not allocate additional memory proportional to the size of the input.\n",
    "\n",
    "Summary\n",
    "\n",
    "\t•\tTime Complexity:\n",
    "\t•\tBest Case: O(1)\n",
    "\t•\tWorst Case: O(n)\n",
    "\t•\tAverage Case: O(n)\n",
    "\t•\tSpace Complexity: O(1)\n",
    "\n",
    "In summary, the linear search algorithm has a linear time complexity of O(n) in the worst-case scenario, making it less efficient for large lists compared to more advanced search algorithms like binary search (which has O(\\log n) time complexity) but still very simple and easy to implement."
   ]
  }
 ],
 "metadata": {
  "kernelspec": {
   "display_name": "Python 3 (ipykernel)",
   "language": "python",
   "name": "python3"
  },
  "language_info": {
   "codemirror_mode": {
    "name": "ipython",
    "version": 3
   },
   "file_extension": ".py",
   "mimetype": "text/x-python",
   "name": "python",
   "nbconvert_exporter": "python",
   "pygments_lexer": "ipython3",
   "version": "3.11.6"
  }
 },
 "nbformat": 4,
 "nbformat_minor": 5
}
