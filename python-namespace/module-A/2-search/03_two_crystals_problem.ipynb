{
 "cells": [
  {
   "cell_type": "markdown",
   "metadata": {},
   "source": [
    "# The Two Crystal Balls Problem\n",
    "\n",
    "The “Two Crystal Balls Problem” is a famous problem in algorithm design that is often used to illustrate optimization techniques. The problem is stated as follows:\n",
    "\n",
    "Problem Statement:\n",
    "\n",
    "You are given two identical crystal balls and a building with  n  floors. The crystal balls are strong enough to withstand a fall from a certain threshold floor (or below), but they will break if they fall from any floor above this threshold. You need to find this threshold floor with the minimum number of drops. The challenge is to devise a strategy that minimizes the worst-case number of drops required to find the threshold floor.\n",
    "\n",
    "Solution Explanation\n",
    "\n",
    "1. Optimal Strategy:\n",
    "\n",
    "The optimal strategy for this problem is to use a combination of linear and binary search techniques. Here’s a step-by-step breakdown:\n",
    "\n",
    "\t1.\tDivide and Conquer:\n",
    "\t•\tDivide the floors into approximately equal intervals.\n",
    "\t•\tDrop the first crystal ball at each interval until it breaks.\n",
    "\t•\tOnce the first crystal ball breaks, perform a linear search with the second crystal ball starting from the last safe floor (the floor just below the one where the first crystal ball broke).\n",
    "\t2.\tMathematical Insight:\n",
    "\t•\tTo minimize the worst-case number of drops, the interval should decrease with each drop. This leads to the choice of intervals of size \\sqrt{n}.\n",
    "\t•\tThe reason for \\sqrt{n} is that if you have  k  intervals, then you will have at most  k  drops with the first ball and up to  k-1  drops with the second ball. Minimizing the sum of these gives the optimal number of drops.\n",
    "\n",
    "Pseudocode:\n",
    "\n",
    "\t1.\tFirst Ball:\n",
    "\t•\tStart at floor \\sqrt{n}, then 2\\sqrt{n}, then 3\\sqrt{n}, and so on until the ball breaks or you run out of floors.\n",
    "\t2.\tSecond Ball:\n",
    "\t•\tOnce the first ball breaks at floor k\\sqrt{n}, use the second ball to do a linear search from (k-1)\\sqrt{n} + 1 to k\\sqrt{n} - 1."
   ]
  },
  {
   "cell_type": "markdown",
   "metadata": {},
   "source": [
    "Two Crystal Balls Problem (Generalized Solution)\n",
    "\n",
    "To solve the two crystal balls problem in an optimized way, we’ll use a combination of jumping and linear search. The optimal strategy involves using the square root of the number of floors as the jump interval. This minimizes the worst-case number of drops needed to find the exact floor where the balls break.\n",
    "\n",
    "Approach\n",
    "\n",
    "\t1.\tJump by intervals of \\sqrt{n}:\n",
    "\t•\tDrop the first crystal ball from floors at intervals of \\sqrt{n} (e.g., floor \\sqrt{n}, 2\\sqrt{n}, 3\\sqrt{n}, etc.).\n",
    "\t•\tContinue this until the ball breaks or you exceed the number of floors.\n",
    "\t2.\tLinear search within the interval:\n",
    "\t•\tOnce the first ball breaks, you know the threshold floor is between the last safe floor and the current floor.\n",
    "\t•\tUse the second crystal ball to perform a linear search from the last safe floor to the current floor where the first ball broke.\n",
    "\n",
    "Time Complexity\n",
    "\n",
    "\t•\tJump Phase: At most \\sqrt{n} jumps.\n",
    "\t•\tLinear Search Phase: At most \\sqrt{n} checks.\n",
    "\t•\tTotal: O(\\sqrt{n}) + O(\\sqrt{n}) = O(\\sqrt{n}).\n",
    "\n",
    "Pseudocode\n",
    "\n",
    "Here’s the pseudocode for this approach:"
   ]
  },
  {
   "cell_type": "markdown",
   "metadata": {},
   "source": [
    "Considering Both Binary and Linear Search\n",
    "\n",
    "In the two crystal balls problem, our goal is to find the highest floor from which a crystal ball can be dropped without breaking, using the least number of drops in the worst-case scenario. Here’s a more in-depth look at why both binary and linear search strategies have their merits and how we can use their principles in our solution.\n",
    "\n",
    "Why Linear Search?\n",
    "\n",
    "\t•\tSimple Implementation: Linear search is straightforward and easy to implement.\n",
    "\t•\tNo Sorting Required: It works directly on the unsorted list of floors.\n",
    "\t•\tGuaranteed to Find the Floor: If you start from the first floor and go up one floor at a time, you will eventually find the threshold floor.\n",
    "\t•\tWorst-Case Complexity: The time complexity is O(n), where n is the number of floors. In the worst case, you have to check each floor one by one until you find the threshold.\n",
    "\n",
    "Why Binary Search?\n",
    "\n",
    "\t•\tEfficient Search in Sorted Lists: Binary search is very efficient for finding an element in a sorted list, with a time complexity of O(\\log n).\n",
    "\t•\tHalves the Search Space: Each comparison eliminates half of the remaining search space, making it much faster than linear search.\n",
    "\t•\tRequires Two Crystal Balls: With one crystal ball, binary search would be risky because it could break on the first drop. With two balls, you can strategically use them to minimize the number of drops.\n",
    "\n",
    "Combining Binary and Linear Search Principles\n",
    "\n",
    "To optimize the two crystal balls problem, we can combine the principles of both binary and linear search by leveraging the square root strategy. This combines the efficiency of reducing the search space quickly (similar to binary search) with a guaranteed search completion (similar to linear search).\n"
   ]
  },
  {
   "cell_type": "markdown",
   "metadata": {},
   "source": [
    "\n",
    "## Optimal Strategy: Square Root Method\n",
    "\n",
    "\t1.\tJump by intervals of \\sqrt{n}:\n",
    "\t•\tUse the first crystal ball to jump in intervals of \\sqrt{n}. This reduces the potential number of drops significantly compared to linear search.\n",
    "\t•\tWhen the first crystal ball breaks, you know the threshold floor is between the last safe floor and the current floor where the ball broke.\n",
    "\t2.\tLinear search within the interval:\n",
    "\t•\tUse the second crystal ball to perform a linear search from the last safe floor to the current floor where the first ball broke. This ensures that you find the exact threshold floor with minimal additional drops.\n"
   ]
  },
  {
   "cell_type": "code",
   "execution_count": 5,
   "metadata": {},
   "outputs": [],
   "source": [
    "# A decorter to get function execution time\n",
    "import time\n",
    "\n",
    "def timeit(func):\n",
    "    def wrapper(*args, **kwargs):\n",
    "        start = time.time()\n",
    "        result = func(*args, **kwargs)\n",
    "        end = time.time()\n",
    "        print(f\"Function {func.__name__} executed in {end-start} seconds\")\n",
    "        return result\n",
    "    return wrapper"
   ]
  },
  {
   "cell_type": "code",
   "execution_count": 6,
   "metadata": {},
   "outputs": [],
   "source": [
    "# Explanation:\n",
    "\n",
    "# \t1.\tInitialization:\n",
    "# \t•\tCompute the interval size as the integer square root of the number of floors.\n",
    "# \t2.\tFirst Ball Drops:\n",
    "# \t•\tDrop the first crystal ball at every interval (i.e., \\sqrt{n}, 2\\sqrt{n}, etc.) until it breaks or you reach the top.\n",
    "# \t•\tThis ensures that the number of drops is minimized, similar to how binary search reduces the search space.\n",
    "# \t3.\tSecond Ball Linear Search:\n",
    "# \t•\tOnce the first ball breaks, use the second ball to perform a linear search starting from the last safe floor to find the exact threshold.\n",
    "# \t•\tThis guarantees finding the exact floor, akin to a linear search but within a much smaller search space.\n",
    "# \t4.\tReturn the Result:\n",
    "# \t•\tIf a threshold floor is found, return its index.\n",
    "# \t•\tIf no threshold floor is found (all floors are safe), return -1.\n",
    "\n",
    "import math\n",
    "\n",
    "@timeit\n",
    "def two_crystal_balls(floors: list[bool]) -> int:\n",
    "    \"\"\"\n",
    "    Given a list of floors where each floor is either False (ball doesn't break)\n",
    "    or True (ball breaks), determine the lowest floor at which the ball breaks.\n",
    "    \"\"\"\n",
    "    n = len(floors)\n",
    "    interval = math.floor(math.isqrt(n)) # Jump Amount\n",
    "    \n",
    "    # First ball drop\n",
    "    # Step 1: Where does 1st Crystal Ball Break?\n",
    "    i = interval\n",
    "    while i < n and not floors[i]:\n",
    "        i += interval\n",
    "    \n",
    "    # Find the exact floor with the second ball\n",
    "    low = max(0, i - interval + 1)\n",
    "    high = min(i, n - 1)\n",
    "    for j in range(low, high + 1):\n",
    "        if floors[j]:\n",
    "            return j\n",
    "    \n",
    "    return -1  # If no threshold floor is found"
   ]
  },
  {
   "cell_type": "code",
   "execution_count": 7,
   "metadata": {},
   "outputs": [
    {
     "name": "stdout",
     "output_type": "stream",
     "text": [
      "Function two_crystal_balls executed in 4.100799560546875e-05 seconds\n",
      "10\n",
      "Function two_crystal_balls executed in 7.3909759521484375e-06 seconds\n",
      "20\n"
     ]
    }
   ],
   "source": [
    "\n",
    "# Example usage\n",
    "floors = [False] * 10 + [True] * 10  # Threshold is at floor 10\n",
    "print(two_crystal_balls(floors))  # Expected output: 10\n",
    "\n",
    "# Another test case\n",
    "floors = [False] * 20 + [True] * 80  # Threshold is at floor 20\n",
    "print(two_crystal_balls(floors))  # Expected output: 20"
   ]
  },
  {
   "cell_type": "markdown",
   "metadata": {},
   "source": [
    "### Implementation  jumping strategy and linear search effectively"
   ]
  },
  {
   "cell_type": "code",
   "execution_count": 9,
   "metadata": {},
   "outputs": [],
   "source": [
    "import math\n",
    "\n",
    "@timeit\n",
    "def two_crystal_balls(breaks: list[bool]) -> int:\n",
    "    \"\"\"\n",
    "    Given a list of floors where each floor is either False (ball doesn't break)\n",
    "    or True (ball breaks), determine the lowest floor at which the ball breaks.\n",
    "    \"\"\"\n",
    "    jmpAmount = math.isqrt(len(breaks))\n",
    "    \n",
    "    # First ball drop\n",
    "    i = jmpAmount\n",
    "    while i < len(breaks):\n",
    "        if breaks[i]:\n",
    "            break\n",
    "        i += jmpAmount\n",
    "    \n",
    "    # Adjust index for linear search\n",
    "    i -= jmpAmount\n",
    "    \n",
    "    # Second ball linear search\n",
    "    for j in range(jmpAmount):\n",
    "        if i < len(breaks) and breaks[i]:\n",
    "            return i\n",
    "        i += 1\n",
    "    \n",
    "    return -1  # If no threshold floor is found\n"
   ]
  },
  {
   "cell_type": "code",
   "execution_count": 10,
   "metadata": {},
   "outputs": [
    {
     "name": "stdout",
     "output_type": "stream",
     "text": [
      "Function two_crystal_balls executed in 7.152557373046875e-06 seconds\n",
      "10\n",
      "Function two_crystal_balls executed in 5.4836273193359375e-06 seconds\n",
      "-1\n"
     ]
    }
   ],
   "source": [
    "\n",
    "# Example usage\n",
    "floors = [False] * 10 + [True] * 10  # Threshold is at floor 10\n",
    "print(two_crystal_balls(floors))  # Expected output: 10\n",
    "\n",
    "# Another test case\n",
    "floors = [False] * 20 + [True] * 80  # Threshold is at floor 20\n",
    "print(two_crystal_balls(floors))  # Expected output: 20"
   ]
  }
 ],
 "metadata": {
  "kernelspec": {
   "display_name": "base",
   "language": "python",
   "name": "python3"
  },
  "language_info": {
   "codemirror_mode": {
    "name": "ipython",
    "version": 3
   },
   "file_extension": ".py",
   "mimetype": "text/x-python",
   "name": "python",
   "nbconvert_exporter": "python",
   "pygments_lexer": "ipython3",
   "version": "3.11.6"
  }
 },
 "nbformat": 4,
 "nbformat_minor": 2
}
