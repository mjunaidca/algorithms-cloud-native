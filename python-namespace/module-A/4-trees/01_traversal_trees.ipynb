{
 "cells": [
  {
   "cell_type": "markdown",
   "metadata": {},
   "source": [
    "# What is a Tree?\n",
    "\n",
    "## Tree: \n",
    "\n",
    "Think of a tree as a structure where each item is connected to others in a hierarchical way, like a family tree. Each item (called a \"node\") can have one or more items connected under it (like children), but it starts with one main item (called the \"root\").\n",
    "\n",
    "### Tree Traversal Types\n",
    "\n",
    "There are three common ways to traverse a tree:\n",
    "\n",
    "1. In-order Traversal:\n",
    "    - Imagine you have a book and want to read the left page, then the centerfold, and then the right page.\n",
    "    - In a tree, you visit the left child (smaller branches) first, then the root (main branch), and finally the right child (other smaller branches).\n",
    "\n",
    "2. Pre-order Traversal:\n",
    "    - This is like starting at the root of the tree (main branch) and visiting it first. Then you explore the left child (smaller branch) and then the right child.\n",
    "    - You're essentially checking the tree top-down.\n",
    "\n",
    "3. Post-order Traversal:\n",
    "    - This time, you start by visiting the left child first, then the right child, and finally, you check the root (main branch).\n",
    "    - You're looking at the tree bottom-up.\n",
    "\n",
    "### Python Code Example\n",
    "\n"
   ]
  },
  {
   "cell_type": "code",
   "execution_count": 1,
   "metadata": {},
   "outputs": [],
   "source": [
    "# •\tIn-order Traversal: \n",
    "    #  The output is 4 2 5 1 6 3 7. \n",
    "    # You first visit the leftmost nodes, then the root, and finally the right nodes.\n",
    "# •\tPre-order Traversal: \n",
    "    # The output is 1 2 4 5 3 6 7. \n",
    "    # You visit the root first, then the left subtree, and finally the right subtree.\n",
    "# •\tPost-order Traversal: \n",
    "    # The output is 4 5 2 6 7 3 1. \n",
    "    # You visit all the children (left and right) first and finally the root.\n",
    "\n",
    "class Node:\n",
    "    def __init__(self, value):\n",
    "        self.value = value\n",
    "        self.left = None\n",
    "        self.right = None\n",
    "\n",
    "def in_order_traversal(node):\n",
    "    if node:\n",
    "        in_order_traversal(node.left)  # Visit left child\n",
    "        print(node.value, end=' ')     # Visit root\n",
    "        in_order_traversal(node.right) # Visit right child\n",
    "\n",
    "def pre_order_traversal(node):\n",
    "    if node:\n",
    "        print(node.value, end=' ')     # Visit root\n",
    "        pre_order_traversal(node.left)  # Visit left child\n",
    "        pre_order_traversal(node.right) # Visit right child\n",
    "\n",
    "def post_order_traversal(node):\n",
    "    if node:\n",
    "        post_order_traversal(node.left)  # Visit left child\n",
    "        post_order_traversal(node.right) # Visit right child\n",
    "        print(node.value, end=' ')       # Visit root\n"
   ]
  },
  {
   "cell_type": "code",
   "execution_count": 4,
   "metadata": {},
   "outputs": [
    {
     "name": "stdout",
     "output_type": "stream",
     "text": [
      "<__main__.Node object at 0x1089dc530>\n"
     ]
    }
   ],
   "source": [
    "# Create the tree\n",
    "root = Node(1)\n",
    "root.left = Node(2)\n",
    "root.right = Node(3)\n",
    "root.left.left = Node(4)\n",
    "root.left.right = Node(5)\n",
    "root.right.left = Node(6)\n",
    "root.right.right = Node(7)\n",
    "\n",
    "print(root)"
   ]
  },
  {
   "cell_type": "code",
   "execution_count": 5,
   "metadata": {},
   "outputs": [
    {
     "name": "stdout",
     "output_type": "stream",
     "text": [
      "In-order Traversal:\n",
      "4 2 5 1 6 3 7 \n",
      "Pre-order Traversal:\n",
      "1 2 4 5 3 6 7 \n",
      "Post-order Traversal:\n",
      "4 5 2 6 7 3 1 "
     ]
    }
   ],
   "source": [
    "\n",
    "# Perform the traversals\n",
    "print(\"In-order Traversal:\")\n",
    "in_order_traversal(root)  # Output: 4 2 5 1 6 3 7\n",
    "\n",
    "print(\"\\nPre-order Traversal:\")\n",
    "pre_order_traversal(root)  # Output: 1 2 4 5 3 6 7\n",
    "\n",
    "print(\"\\nPost-order Traversal:\")\n",
    "post_order_traversal(root)  # Output: 4 5 2 6 7 3 1"
   ]
  }
 ],
 "metadata": {
  "kernelspec": {
   "display_name": "base",
   "language": "python",
   "name": "python3"
  },
  "language_info": {
   "codemirror_mode": {
    "name": "ipython",
    "version": 3
   },
   "file_extension": ".py",
   "mimetype": "text/x-python",
   "name": "python",
   "nbconvert_exporter": "python",
   "pygments_lexer": "ipython3",
   "version": "3.12.2"
  }
 },
 "nbformat": 4,
 "nbformat_minor": 2
}
