{
 "cells": [
  {
   "cell_type": "markdown",
   "metadata": {},
   "source": [
    "Queue Data Structure\n",
    "\n",
    "A queue is a linear data structure that follows the First In First Out (FIFO) principle, where elements are added to the rear (end) and removed from the front (beginning). Queues are used in various applications such as scheduling, buffering, and managing resources.\n",
    "\n",
    "Types of Queues\n",
    "\n",
    "\t1.\tSimple Queue: The basic queue where insertion happens at the rear and deletion happens at the front.\n",
    "\t2.\tCircular Queue: A queue where the last position is connected back to the first position to make a circle.\n",
    "\t3.\tPriority Queue: A queue where elements are removed based on priority rather than the order in which they were added.\n",
    "\t4.\tDouble-Ended Queue (Deque): A queue where insertion and deletion can occur at both ends.\n",
    "\n",
    "Simple Queue Operations\n",
    "\n",
    "1. Enqueue\n",
    "\n",
    "Adding an element to the rear of the queue.\n",
    "\n",
    "2. Dequeue\n",
    "\n",
    "Removing an element from the front of the queue.\n",
    "\n",
    "3. Peek/Front\n",
    "\n",
    "Retrieving the element at the front of the queue without removing it.\n",
    "\n",
    "4. isEmpty\n",
    "\n",
    "Checking if the queue is empty.\n",
    "\n",
    "5. isFull\n",
    "\n",
    "Checking if the queue is full (applicable in fixed-size queues).\n",
    "\n",
    "Queue Implementation in Python\n",
    "\n",
    "Here’s how you can implement a simple queue using a list in Python:"
   ]
  }
 ],
 "metadata": {
  "kernelspec": {
   "display_name": "base",
   "language": "python",
   "name": "python3"
  },
  "language_info": {
   "codemirror_mode": {
    "name": "ipython",
    "version": 3
   },
   "file_extension": ".py",
   "mimetype": "text/x-python",
   "name": "python",
   "nbconvert_exporter": "python",
   "pygments_lexer": "ipython3",
   "version": "3.11.6"
  }
 },
 "nbformat": 4,
 "nbformat_minor": 2
}
