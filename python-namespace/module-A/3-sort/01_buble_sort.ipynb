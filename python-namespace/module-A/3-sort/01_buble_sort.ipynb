{
 "cells": [
  {
   "cell_type": "markdown",
   "metadata": {},
   "source": [
    "# Bubble Sort Algorithm\n",
    "\n",
    "Bubble Sort is one of the simplest sorting algorithms that works by repeatedly stepping through the list to be sorted, comparing each pair of adjacent items, and swapping them if they are in the wrong order. The process is repeated until the list is sorted.\n",
    "\n",
    "## Steps of Bubble Sort\n",
    "\n",
    "\t1.\tPass Through the List: Starting from the beginning of the list, compare each pair of adjacent items.\n",
    "\t2.\tSwap if Necessary: If the items are in the wrong order (i.e., the first is greater than the second), swap them.\n",
    "\t3.\tRepeat: Repeat the process for the entire list. Each pass through the list places the next largest element in its correct position.\n",
    "\t4.\tStop: Continue until no more swaps are needed, indicating that the list is sorted.\n",
    "\n",
    "## Time Complexity\n",
    "\n",
    "\t•\tBest Case: O(n) - Occurs when the list is already sorted.\n",
    "\t•\tWorst Case: O(n^2) - Occurs when the list is sorted in reverse order.\n",
    "\t•\tAverage Case: O(n^2)\n",
    "\n",
    "## Pseudocode\n",
    "```\n",
    "FUNCTION bubble_sort(arr):\n",
    "    n = LENGTH(arr)\n",
    "    FOR i FROM 0 TO n-1:\n",
    "        swapped = False\n",
    "        FOR j FROM 0 TO n-i-2:\n",
    "            IF arr[j] > arr[j+1]:\n",
    "                SWAP arr[j] and arr[j+1]\n",
    "                swapped = True\n",
    "        IF NOT swapped:\n",
    "            BREAK\n",
    "```\n",
    "\n",
    "## Python Implementation"
   ]
  },
  {
   "cell_type": "code",
   "execution_count": 2,
   "metadata": {},
   "outputs": [],
   "source": [
    "def bubble_sort(array):\n",
    "    \"\"\"\n",
    "    Sorts a list using the bubble sort algorithm.\n",
    "\n",
    "    Parameters:\n",
    "    array (list): The list to be sorted.\n",
    "\n",
    "    Returns:\n",
    "    list: The sorted list.\n",
    "    \"\"\"\n",
    "    length = len(array)\n",
    "    for pass_num in range(length):\n",
    "        swapped = False\n",
    "        for index in range(0, length - pass_num - 1):\n",
    "            if array[index] > array[index + 1]:\n",
    "                # Swap the elements\n",
    "                array[index], array[index + 1] = array[index + 1], array[index]\n",
    "                swapped = True\n",
    "        # If no elements were swapped, the list is sorted\n",
    "        if not swapped:\n",
    "            break\n",
    "    return array"
   ]
  },
  {
   "cell_type": "code",
   "execution_count": 3,
   "metadata": {},
   "outputs": [
    {
     "name": "stdout",
     "output_type": "stream",
     "text": [
      "Sorted array is: [11, 12, 22, 25, 34, 64, 90]\n"
     ]
    }
   ],
   "source": [
    "# Example usage\n",
    "array = [64, 34, 25, 12, 22, 11, 90]\n",
    "sorted_array = bubble_sort(array)\n",
    "print(\"Sorted array is:\", sorted_array)"
   ]
  }
 ],
 "metadata": {
  "kernelspec": {
   "display_name": "base",
   "language": "python",
   "name": "python3"
  },
  "language_info": {
   "codemirror_mode": {
    "name": "ipython",
    "version": 3
   },
   "file_extension": ".py",
   "mimetype": "text/x-python",
   "name": "python",
   "nbconvert_exporter": "python",
   "pygments_lexer": "ipython3",
   "version": "3.11.6"
  }
 },
 "nbformat": 4,
 "nbformat_minor": 2
}
