{
 "cells": [
  {
   "cell_type": "markdown",
   "metadata": {},
   "source": [
    "### Depth-First Search (DFS) Insertion in a Binary Search Tree (BST)\n",
    "\n",
    "Inserting a value into a Binary Search Tree (BST) using Depth-First Search (DFS) follows a similar pattern to searching for a value. The key idea is to maintain the properties of the BST while finding the correct location for the new value and then inserting it.\n",
    "\n",
    "### Key Aspects to Cover\n",
    "\n",
    "1. **BST Properties Recap**:\n",
    "   - Every node in the BST must satisfy the property that the left subtree of a node contains only nodes with values less than or equal to the node's value, and the right subtree only nodes with values greater than the node's value.\n",
    "\n",
    "2. **Insertion Algorithm**:\n",
    "   - Insertion in a BST is a recursive process that traverses the tree to find the correct spot for the new node while maintaining the BST properties.\n",
    "   - The process is similar to the \"find\" operation, but instead of returning when a match is found, you continue until you reach a `None` (null) reference, at which point the new node is inserted.\n",
    "\n",
    "### Pseudocode for DFS Insertion\n",
    "\n",
    "Here’s a high-level pseudocode for inserting a value into a BST using DFS:\n",
    "\n",
    "```python\n",
    "def insert(node, value):\n",
    "    # Base case: If the current node is None, we insert the new node here\n",
    "    if node is None:\n",
    "        return TreeNode(value)\n",
    "    \n",
    "    # If the value to insert is less than the current node's value, go to the left subtree\n",
    "    if value < node.value:\n",
    "        node.left = insert(node.left, value)\n",
    "    \n",
    "    # If the value to insert is greater than or equal to the current node's value, go to the right subtree\n",
    "    else:\n",
    "        node.right = insert(node.right, value)\n",
    "    \n",
    "    # Return the (possibly updated) node to the previous call\n",
    "    return node\n",
    "```\n",
    "\n",
    "### Example Walkthrough\n",
    "\n",
    "Let’s consider an example where we insert values into a BST:\n",
    "\n",
    "#### Initial Tree:\n",
    "```\n",
    "     10\n",
    "    /  \\\n",
    "   5    20\n",
    "  / \\   / \\\n",
    " 2   7 15  30\n",
    "```\n",
    "\n",
    "#### Insert 17:\n",
    "\n",
    "- **Step 1**: Start at the root (10).\n",
    "- **Step 2**: 17 is greater than 10, so move to the right subtree.\n",
    "- **Step 3**: 17 is less than 20, so move to the left subtree of 20.\n",
    "- **Step 4**: 17 is greater than 15, so move to the right subtree of 15.\n",
    "- **Step 5**: The right subtree of 15 is `None`, so insert 17 here.\n",
    "\n",
    "#### Updated Tree:\n",
    "```\n",
    "     10\n",
    "    /  \\\n",
    "   5    20\n",
    "  / \\   / \\\n",
    " 2   7 15  30\n",
    "        \\\n",
    "        17\n",
    "```\n",
    "\n",
    "### Time Complexity Analysis\n",
    "\n",
    "1. **Best-Case Scenario**:\n",
    "   - **Scenario**: The tree is balanced, and the value is inserted at a shallow level (e.g., close to the root).\n",
    "   - **Time Complexity**: `O(log n)` where `n` is the number of nodes in the tree.\n",
    "   - **Explanation**: In a balanced BST, the height `h` of the tree is `log n`, so insertion takes `O(log n)` time.\n",
    "\n",
    "2. **Average-Case Scenario**:\n",
    "   - **Scenario**: The tree is balanced, and the value is inserted somewhere in the middle levels.\n",
    "   - **Time Complexity**: `O(log n)`.\n",
    "   - **Explanation**: Most insertions in a balanced BST will still take `O(log n)` time because we’re traversing down the tree level by level.\n",
    "\n",
    "3. **Worst-Case Scenario**:\n",
    "   - **Scenario**: The tree is unbalanced (e.g., a skewed tree resembling a linked list), and the value is inserted at the deepest level.\n",
    "   - **Time Complexity**: `O(n)` where `n` is the number of nodes in the tree.\n",
    "   - **Explanation**: In the worst case, you might have to traverse through all `n` nodes, such as when the tree is completely unbalanced (e.g., a linked list), leading to a time complexity of `O(n)`.\n",
    "\n",
    "### Space Complexity\n",
    "\n",
    "- **Recursive Implementation**:\n",
    "  - **Space Complexity**: `O(h)` where `h` is the height of the tree.\n",
    "  - **Explanation**: The space complexity is due to the recursion stack. In a balanced tree, `h = O(log n)`, while in an unbalanced tree, `h = O(n)`.\n",
    "\n",
    "- **Iterative Implementation**:\n",
    "  - **Space Complexity**: `O(1)` for the iterative case since it doesn’t use additional space proportional to the height of the tree (though in practice, most implementations are recursive).\n",
    "\n",
    "### Balancing the Tree\n",
    "\n",
    "- **Balancing**: In real-world applications, BSTs can become unbalanced after a series of insertions, leading to degraded performance (`O(n)` instead of `O(log n)`). To mitigate this, self-balancing trees like AVL trees or Red-Black trees are often used. These trees automatically maintain balance, ensuring that operations like insertion, deletion, and searching always have `O(log n)` time complexity.\n",
    "\n",
    "### Conclusion\n",
    "\n",
    "Inserting a value into a BST using DFS is straightforward and similar to the find operation. The running time for insertion depends on the tree's height, which is `O(log n)` for a balanced tree and `O(n)` for an unbalanced tree. Maintaining a balanced tree structure is crucial for ensuring efficient operations, which is why self-balancing BSTs are commonly used in practice."
   ]
  },
  {
   "cell_type": "code",
   "execution_count": 1,
   "metadata": {},
   "outputs": [],
   "source": [
    "class TreeNode:\n",
    "    def __init__(self, value):\n",
    "        self.value = value\n",
    "        self.left = None\n",
    "        self.right = None\n",
    "\n",
    "# Creating a BST\n",
    "root = TreeNode(10)\n",
    "root.left = TreeNode(5)\n",
    "root.right = TreeNode(20)\n",
    "root.left.left = TreeNode(2)\n",
    "root.left.right = TreeNode(7)\n",
    "root.right.left = TreeNode(15)\n",
    "root.right.right = TreeNode(30)"
   ]
  },
  {
   "cell_type": "code",
   "execution_count": 2,
   "metadata": {},
   "outputs": [],
   "source": [
    "def insert(node, value):\n",
    "    # Base case: If the current node is None, we insert the new node here\n",
    "    if node is None:\n",
    "        return TreeNode(value)\n",
    "    \n",
    "    # If the value to insert is less than the current node's value, go to the left subtree\n",
    "    if value < node.value:\n",
    "        node.left = insert(node.left, value)\n",
    "    \n",
    "    # If the value to insert is greater than or equal to the current node's value, go to the right subtree\n",
    "    else:\n",
    "        node.right = insert(node.right, value)\n",
    "    \n",
    "    # Return the (possibly updated) node to the previous call\n",
    "    return node"
   ]
  },
  {
   "cell_type": "code",
   "execution_count": 3,
   "metadata": {},
   "outputs": [
    {
     "data": {
      "text/plain": [
       "<__main__.TreeNode at 0x105ebde80>"
      ]
     },
     "execution_count": 3,
     "metadata": {},
     "output_type": "execute_result"
    }
   ],
   "source": [
    "insert(root, 6)\n",
    "insert(root, 25)\n",
    "insert(root, 1)"
   ]
  },
  {
   "cell_type": "code",
   "execution_count": 6,
   "metadata": {},
   "outputs": [
    {
     "name": "stdout",
     "output_type": "stream",
     "text": [
      "1 2 5 6 7 10 15 20 25 30 "
     ]
    }
   ],
   "source": [
    "# print the inorder traversal of the BST\n",
    "def inorder_traversal(node):\n",
    "    if node is None:\n",
    "        return\n",
    "    inorder_traversal(node.left)\n",
    "    print(node.value, end=' ')\n",
    "    inorder_traversal(node.right)\n",
    "    \n",
    "inorder_traversal(root)"
   ]
  }
 ],
 "metadata": {
  "kernelspec": {
   "display_name": "base",
   "language": "python",
   "name": "python3"
  },
  "language_info": {
   "codemirror_mode": {
    "name": "ipython",
    "version": 3
   },
   "file_extension": ".py",
   "mimetype": "text/x-python",
   "name": "python",
   "nbconvert_exporter": "python",
   "pygments_lexer": "ipython3",
   "version": "3.12.2"
  }
 },
 "nbformat": 4,
 "nbformat_minor": 2
}
