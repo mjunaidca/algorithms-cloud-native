{
 "cells": [
  {
   "cell_type": "markdown",
   "metadata": {},
   "source": [
    "## Is my Data Ordered? Then there's a lot!"
   ]
  },
  {
   "cell_type": "markdown",
   "metadata": {},
   "source": [
    "Possible pitfalls of that search, and how the binary search algorithm differs. Binary search is an efficient algorithm for finding an item from a sorted list of items."
   ]
  },
  {
   "cell_type": "markdown",
   "metadata": {},
   "source": [
    "Binary search is a powerful algorithm for finding elements in sorted lists due to its logarithmic time complexity. However, it requires the list to be sorted and careful handling of edge cases and pointer updates. This makes it more efficient than linear search but also slightly more complex to implement correctly."
   ]
  },
  {
   "cell_type": "markdown",
   "metadata": {},
   "source": [
    "## Pitfalls of Binary Search\n",
    "\n",
    "\t1.\tSorted List Requirement:\n",
    "\t•\tBinary search requires the list to be sorted beforehand. If the list is not sorted, the algorithm will not work correctly.\n",
    "\t•\tSorting the list adds additional overhead, especially for large datasets. Sorting itself has a time complexity of O(n \\log n).\n",
    "\t2.\tInteger Overflow:\n",
    "\t•\tIn languages with fixed integer sizes, calculating the midpoint as (low + high) // 2 can cause integer overflow. This is usually not a concern in Python due to its handling of large integers, but it’s a potential pitfall in other languages like C++ or Java.\n",
    "\t•\tA safer way to calculate the midpoint is low + (high - low) // 2.\n",
    "\t3.\tInfinite Loops:\n",
    "\t•\tIncorrect updates to the low and high pointers can cause infinite loops. Ensuring that low and high are updated correctly in each iteration is crucial.\n",
    "\t4.\tEdge Cases:\n",
    "\t•\tHandling edge cases like an empty list or a list with one element can be tricky and needs special attention.\n",
    "\t•\tIf the target element is smaller than the smallest element or larger than the largest element, the algorithm needs to terminate correctly.\n",
    "\n",
    "## How Binary Search Differs from Linear Search\n",
    "\n",
    "Efficiency:\n",
    "\n",
    "\t•\tLinear Search: Time complexity is O(n). It checks each element sequentially until the target is found or the list ends. This makes it inefficient for large lists.\n",
    "\t•\tBinary Search: Time complexity is O(\\log n). It divides the search interval in half with each step, significantly reducing the number of comparisons needed.\n",
    "\n",
    "Applicability:\n",
    "\n",
    "\t•\tLinear Search: Can be applied to any list, whether sorted or unsorted.\n",
    "\t•\tBinary Search: Only applicable to sorted lists. If the list is unsorted, it must be sorted first, adding overhead.\n",
    "\n",
    "Implementation Complexity:\n",
    "\n",
    "\t•\tLinear Search: Simple to implement. Iterate through the list and check each element.\n",
    "\t•\tBinary Search: More complex. Requires careful management of pointers and calculation of the midpoint.\n"
   ]
  },
  {
   "cell_type": "markdown",
   "metadata": {},
   "source": [
    "## Pseudo code binary search\n",
    "\n",
    "Pseudocode for Binary Search\n",
    "\n",
    "\t1.\tInitialization:\n",
    "\t•\tSet low to 0 (the index of the first element).\n",
    "\t•\tSet high to the index of the last element (length of the list minus one).\n",
    "\t2.\tLoop:\n",
    "\t•\tWhile low is less than or equal to high:\n",
    "\t•\tCalculate mid as the integer division of (low + high) / 2.\n",
    "\t•\tIf the element at mid is equal to the target element (needle):\n",
    "\t•\tReturn True (or the index mid).\n",
    "\t•\tElse if the element at mid is less than the target element:\n",
    "\t•\tSet low to mid + 1.\n",
    "\t•\tElse (the element at mid is greater than the target element):\n",
    "\t•\tSet high to mid - 1.\n",
    "\t3.\tEnd of Loop:\n",
    "\t•\tIf the loop exits without finding the target element, return False.\n",
    "\n",
    "    ```\n",
    "    FUNCTION binary_search(haystack, needle):\n",
    "    low ← 0\n",
    "    high ← LENGTH(haystack) - 1\n",
    "\n",
    "    WHILE low ≤ high DO:\n",
    "        mid ← (low + high) // 2\n",
    "        \n",
    "        IF haystack[mid] = needle THEN:\n",
    "            RETURN True\n",
    "        \n",
    "        ELSE IF haystack[mid] < needle THEN:\n",
    "            low ← mid + 1\n",
    "        \n",
    "        ELSE:\n",
    "            high ← mid - 1\n",
    "    \n",
    "    RETURN False\n",
    "    ```"
   ]
  },
  {
   "cell_type": "markdown",
   "metadata": {},
   "source": [
    "## Implementing Binary Search"
   ]
  },
  {
   "cell_type": "code",
   "execution_count": 5,
   "metadata": {},
   "outputs": [],
   "source": [
    "# A decorter to get function execution time\n",
    "import time\n",
    "\n",
    "def timeit(func):\n",
    "    def wrapper(*args, **kwargs):\n",
    "        start = time.time()\n",
    "        result = func(*args, **kwargs)\n",
    "        end = time.time()\n",
    "        print(f\"Function {func.__name__} executed in {end-start} seconds\")\n",
    "        return result\n",
    "    return wrapper"
   ]
  },
  {
   "cell_type": "code",
   "execution_count": 6,
   "metadata": {},
   "outputs": [],
   "source": [
    "import math\n",
    "\n",
    "\n",
    "# Explanation:\n",
    "\n",
    "# \t1.\tInitialization:\n",
    "# \t•\tlow is initialized to 0, representing the start of the list.\n",
    "# \t•\thigh is initialized to the last index of the list, which is len(haystack) - 1.\n",
    "# \t2.\tLoop:\n",
    "# \t•\tThe loop runs indefinitely with while True.\n",
    "# \t•\tInside the loop, mid is calculated as low + (high - low) // 2 to avoid overflow issues.\n",
    "# \t•\tIf the element at mid (haystack[mid]) is equal to the needle, the function returns True.\n",
    "# \t•\tIf the element at mid is less than the needle, the search continues in the right half by updating low to mid + 1.\n",
    "# \t•\tIf the element at mid is greater than the needle, the search continues in the left half by updating high to mid - 1.\n",
    "# \t•\tThe loop breaks if low exceeds high, indicating that the search interval is invalid.\n",
    "# \t3.\tEnd of Loop:\n",
    "# \t•\tIf the loop exits without finding the needle, the function returns False, indicating that the target element is not in the list.\n",
    "\n",
    "@timeit\n",
    "def bs_list(haystack: list[int], needle: int) -> bool:\n",
    "    \"\"\"\n",
    "    Binary search in a list\n",
    "    \"\"\"\n",
    "    low = 0\n",
    "    high = len(haystack) - 1\n",
    "    \n",
    "    while True:\n",
    "        # Calculate mid index safely\n",
    "        mid = math.floor(low + (high - low) // 2)\n",
    "        \n",
    "        value = haystack[mid]\n",
    "        \n",
    "        # Check if the mid element is the target element\n",
    "        if value == needle:\n",
    "            return True\n",
    "        # If the target element is greater, ignore the left half\n",
    "        elif value < needle:\n",
    "            low = mid + 1\n",
    "        # If the target element is smaller, ignore the right half\n",
    "        else:\n",
    "            high = mid - 1\n",
    "        \n",
    "        # Break the loop if the search interval is invalid\n",
    "        if low > high:\n",
    "            break\n",
    "    \n",
    "    # If the element is not found, return False\n",
    "    return False\n"
   ]
  },
  {
   "cell_type": "code",
   "execution_count": 7,
   "metadata": {},
   "outputs": [
    {
     "name": "stdout",
     "output_type": "stream",
     "text": [
      "Function bs_list executed in 4.482269287109375e-05 seconds\n",
      "Function bs_list executed in 2.6226043701171875e-06 seconds\n",
      "Function bs_list executed in 4.5299530029296875e-06 seconds\n",
      "Function bs_list executed in 1.430511474609375e-06 seconds\n",
      "Function bs_list executed in 1.1920928955078125e-06 seconds\n",
      "Function bs_list executed in 3.0994415283203125e-06 seconds\n"
     ]
    }
   ],
   "source": [
    "# Test the binary search function\n",
    "def test_bs_list():\n",
    "    foo = [1, 3, 4, 69, 71, 81, 90, 99, 420, 1337, 69420]\n",
    "    assert bs_list(foo, 69) == True\n",
    "    assert bs_list(foo, 1336) == False\n",
    "    assert bs_list(foo, 69420) == True\n",
    "    assert bs_list(foo, 69421) == False\n",
    "    assert bs_list(foo, 1) == True\n",
    "    assert bs_list(foo, 0) == False\n",
    "\n",
    "# Run the test function\n",
    "test_bs_list()"
   ]
  }
 ],
 "metadata": {
  "kernelspec": {
   "display_name": "base",
   "language": "python",
   "name": "python3"
  },
  "language_info": {
   "codemirror_mode": {
    "name": "ipython",
    "version": 3
   },
   "file_extension": ".py",
   "mimetype": "text/x-python",
   "name": "python",
   "nbconvert_exporter": "python",
   "pygments_lexer": "ipython3",
   "version": "3.11.6"
  }
 },
 "nbformat": 4,
 "nbformat_minor": 2
}
